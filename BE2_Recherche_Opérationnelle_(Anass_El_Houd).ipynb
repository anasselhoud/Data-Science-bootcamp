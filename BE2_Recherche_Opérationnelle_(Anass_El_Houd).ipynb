{
  "nbformat": 4,
  "nbformat_minor": 0,
  "metadata": {
    "colab": {
      "name": "BE2 Recherche Opérationnelle (Anass El Houd)",
      "provenance": [],
      "toc_visible": true
    },
    "kernelspec": {
      "name": "python3",
      "display_name": "Python 3"
    }
  },
  "cells": [
    {
      "cell_type": "markdown",
      "metadata": {
        "id": "4xqZnTIznq69"
      },
      "source": [
        "# BE2 - Algorithmes efficaces via la Programmation Linéaire"
      ]
    },
    {
      "cell_type": "markdown",
      "metadata": {
        "id": "9sFBNWPGn5Jk"
      },
      "source": [
        "Préparé par Anass El Houd - Cours de Recherche Opérationnelle.\n",
        "BE de Monsieur Nicolas BOUSQUET. \n",
        "\n",
        "Le rapport est en Pj de ce notebook."
      ]
    },
    {
      "cell_type": "code",
      "metadata": {
        "id": "gNpljQZ1nqun"
      },
      "source": [
        "import pandas as pd\n",
        "import numpy as np\n",
        "import math"
      ],
      "execution_count": 3,
      "outputs": []
    },
    {
      "cell_type": "markdown",
      "metadata": {
        "id": "Fd_L1LttoRsn"
      },
      "source": [
        "#### Question 10.a."
      ]
    },
    {
      "cell_type": "code",
      "metadata": {
        "id": "yxPeN2NYnmcB"
      },
      "source": [
        "def adj_To_Inc(adj):\n",
        "  n=np.shape(adj)\n",
        "  edge=0\n",
        "  inc=np.zeros((n[0]**2,n[0])) \n",
        "\n",
        "  for i in range(0,n[0]):\n",
        "    for j in range(i):\n",
        "       if (adj[i][j]):\n",
        "         inc[edge][i]=1\n",
        "         inc[edge][j]=1\n",
        "         edge=edge+1\n",
        "            \n",
        "  inc=inc[:edge][:]\n",
        "\n",
        "  return inc"
      ],
      "execution_count": 4,
      "outputs": []
    },
    {
      "cell_type": "code",
      "metadata": {
        "colab": {
          "base_uri": "https://localhost:8080/"
        },
        "id": "eeMEKwhAphxm",
        "outputId": "e1fe2299-b292-42dd-8a46-1f48c10ff387"
      },
      "source": [
        "#La matrice d'adjacence d'un cycle de 4 sommets\n",
        "adj1=[[0,1,0,1],\n",
        "      [1,0,1,0],\n",
        "      [0,1,0,1],\n",
        "      [1,0,1,0]]\n",
        "\n",
        "adj_To_Inc(adj1)"
      ],
      "execution_count": 5,
      "outputs": [
        {
          "output_type": "execute_result",
          "data": {
            "text/plain": [
              "array([[1., 1., 0., 0.],\n",
              "       [0., 1., 1., 0.],\n",
              "       [1., 0., 0., 1.],\n",
              "       [0., 0., 1., 1.]])"
            ]
          },
          "metadata": {
            "tags": []
          },
          "execution_count": 5
        }
      ]
    },
    {
      "cell_type": "code",
      "metadata": {
        "colab": {
          "base_uri": "https://localhost:8080/"
        },
        "id": "ShjEh4nEt2KT",
        "outputId": "6867463b-d31d-44f0-e57a-7ee388a886bb"
      },
      "source": [
        "#La matrice d'adjacence d'un chemin à 4 sommets\n",
        "adj2=[[0,1,1,0],\n",
        "      [1,0,0,0],\n",
        "      [1,0,0,1],\n",
        "      [0,0,1,0]]\n",
        "\n",
        "adj_To_Inc(adj2)"
      ],
      "execution_count": 6,
      "outputs": [
        {
          "output_type": "execute_result",
          "data": {
            "text/plain": [
              "array([[1., 1., 0., 0.],\n",
              "       [1., 0., 1., 0.],\n",
              "       [0., 0., 1., 1.]])"
            ]
          },
          "metadata": {
            "tags": []
          },
          "execution_count": 6
        }
      ]
    },
    {
      "cell_type": "code",
      "metadata": {
        "colab": {
          "base_uri": "https://localhost:8080/"
        },
        "id": "V7HvDWjqucAO",
        "outputId": "3be5deab-693c-41e8-a459-8564054c34f7"
      },
      "source": [
        "#La matrice d'adjacence d'un clique à 4 sommets\n",
        "adj3=[[0,1,1,1],\n",
        "      [1,0,1,1],\n",
        "      [1,1,0,1],\n",
        "      [1,1,1,0]]\n",
        "\n",
        "adj_To_Inc(adj3)"
      ],
      "execution_count": 7,
      "outputs": [
        {
          "output_type": "execute_result",
          "data": {
            "text/plain": [
              "array([[1., 1., 0., 0.],\n",
              "       [1., 0., 1., 0.],\n",
              "       [0., 1., 1., 0.],\n",
              "       [1., 0., 0., 1.],\n",
              "       [0., 1., 0., 1.],\n",
              "       [0., 0., 1., 1.]])"
            ]
          },
          "metadata": {
            "tags": []
          },
          "execution_count": 7
        }
      ]
    },
    {
      "cell_type": "markdown",
      "metadata": {
        "id": "VZkF85Vnpi4N"
      },
      "source": [
        "#### Question 10.b."
      ]
    },
    {
      "cell_type": "code",
      "metadata": {
        "id": "yxkqmzS5pjnM"
      },
      "source": [
        "def inc_to_adj(inc):\n",
        "  m=np.shape(inc)\n",
        "  adj=np.zeros((m[1],m[1]))\n",
        "  count=0\n",
        "  k=0\n",
        "\n",
        "  for i in range(m[0]):\n",
        "\n",
        "    for j in range(m[1]):\n",
        "      if (inc[i][j]==1 and count==0):\n",
        "        count = 1\n",
        "        k=j\n",
        "\n",
        "      elif (inc[i][j]==1 and count==1):\n",
        "        count=0\n",
        "        adj[k,j]=1\n",
        "        adj[j,k]=1\n",
        "        k=0\n",
        "\n",
        "  return adj"
      ],
      "execution_count": 47,
      "outputs": []
    },
    {
      "cell_type": "code",
      "metadata": {
        "colab": {
          "base_uri": "https://localhost:8080/"
        },
        "id": "m-Tv2dXKqcIh",
        "outputId": "31169187-93a3-45dc-9a65-7e2590ca7232"
      },
      "source": [
        "#La matrice d'incidence d'un cycle de 4 sommets\n",
        "incid1=[[1,1,0,0],\n",
        "        [0,1,1,0],\n",
        "        [0,0,1,1],\n",
        "        [1,0,0,1]]\n",
        "\n",
        "inc_to_adj(incid1)"
      ],
      "execution_count": 48,
      "outputs": [
        {
          "output_type": "execute_result",
          "data": {
            "text/plain": [
              "array([[0., 1., 0., 1.],\n",
              "       [1., 0., 1., 0.],\n",
              "       [0., 1., 0., 1.],\n",
              "       [1., 0., 1., 0.]])"
            ]
          },
          "metadata": {
            "tags": []
          },
          "execution_count": 48
        }
      ]
    },
    {
      "cell_type": "code",
      "metadata": {
        "colab": {
          "base_uri": "https://localhost:8080/"
        },
        "id": "JYKdUBj5sfgj",
        "outputId": "5116c138-1698-40ff-a861-4649f30f097f"
      },
      "source": [
        "#La matrice d'incidence d'un chemin à 4 sommets\n",
        "incid2=[[1, 1, 0, 0],\n",
        "        [1, 0, 1, 0],\n",
        "        [0, 0, 1, 1]]\n",
        "\n",
        "inc_to_adj(incid2)"
      ],
      "execution_count": 49,
      "outputs": [
        {
          "output_type": "execute_result",
          "data": {
            "text/plain": [
              "array([[0., 1., 1., 0.],\n",
              "       [1., 0., 0., 0.],\n",
              "       [1., 0., 0., 1.],\n",
              "       [0., 0., 1., 0.]])"
            ]
          },
          "metadata": {
            "tags": []
          },
          "execution_count": 49
        }
      ]
    },
    {
      "cell_type": "code",
      "metadata": {
        "colab": {
          "base_uri": "https://localhost:8080/"
        },
        "id": "MC8HRZqssiH8",
        "outputId": "9a1e48d4-c7d2-484e-f8f1-46f23136d43c"
      },
      "source": [
        "#La matrice d'incidence d'un clique à 4 sommets\n",
        "incid3=[[1, 1, 0, 0],\n",
        "        [1, 0, 1, 0],\n",
        "        [0, 1, 1, 0],\n",
        "        [1, 0, 0, 1],\n",
        "        [0, 1, 0, 1],\n",
        "        [0, 0, 1, 1]]\n",
        "\n",
        "inc_to_adj(incid3)"
      ],
      "execution_count": 51,
      "outputs": [
        {
          "output_type": "execute_result",
          "data": {
            "text/plain": [
              "array([[0., 1., 1., 1.],\n",
              "       [1., 0., 1., 1.],\n",
              "       [1., 1., 0., 1.],\n",
              "       [1., 1., 1., 0.]])"
            ]
          },
          "metadata": {
            "tags": []
          },
          "execution_count": 51
        }
      ]
    },
    {
      "cell_type": "markdown",
      "metadata": {
        "id": "xuK3Yw6f6-WK"
      },
      "source": [
        "En effet, on remarque qu'il y a une équivalence entre les deux méthodes qu'on vient d'implémenter. Les réponses sont correctes."
      ]
    },
    {
      "cell_type": "markdown",
      "metadata": {
        "id": "2ekZKgNbpn-J"
      },
      "source": [
        "#### Question 11.a."
      ]
    },
    {
      "cell_type": "markdown",
      "metadata": {
        "id": "6Qkw4UnXu_l1"
      },
      "source": [
        "Écrire une fonction qui renvoie un couplage maximal fractionnaire étant donné un graphe G en entrée ainsi que sa valeur"
      ]
    },
    {
      "cell_type": "code",
      "metadata": {
        "id": "pPZAP0gqpy7v"
      },
      "source": [
        "from scipy.optimize import linprog\n",
        "\n",
        "def couplage_max(inc):\n",
        "  if inc==[]:\n",
        "    C=[]\n",
        "    N=0\n",
        "\n",
        "  else:\n",
        "    m=np.shape(inc)\n",
        "    c=-np.ones(m[0])\n",
        "    A=np.transpose(inc)\n",
        "    b=np.ones(m[1])\n",
        "    lb=np.zeros(m[0])\n",
        "    ub=np.ones(m[0])\n",
        "\n",
        "    res = linprog(c, A_ub=A, b_ub=b, bounds=[0,1])\n",
        "\n",
        "    return res"
      ],
      "execution_count": 27,
      "outputs": []
    },
    {
      "cell_type": "code",
      "metadata": {
        "colab": {
          "base_uri": "https://localhost:8080/"
        },
        "id": "cmcNl5gNvLHA",
        "outputId": "eb82b47d-02cb-4454-ce41-bc6ea2b53d0a"
      },
      "source": [
        "#cycle de 4 sommets\n",
        "couplage_max(incid1)"
      ],
      "execution_count": 28,
      "outputs": [
        {
          "output_type": "execute_result",
          "data": {
            "text/plain": [
              "     con: array([], dtype=float64)\n",
              "     fun: -2.0000000161570175\n",
              " message: 'Optimization terminated successfully.'\n",
              "     nit: 3\n",
              "   slack: array([-8.07860978e-09, -8.07857736e-09, -8.07840816e-09, -8.07844036e-09])\n",
              "  status: 0\n",
              " success: True\n",
              "       x: array([0.5, 0.5, 0.5, 0.5])"
            ]
          },
          "metadata": {
            "tags": []
          },
          "execution_count": 28
        }
      ]
    },
    {
      "cell_type": "code",
      "metadata": {
        "colab": {
          "base_uri": "https://localhost:8080/"
        },
        "id": "xYWRH2y-vatq",
        "outputId": "3a198876-6e8d-40ca-d15a-eb8ed52bf3d2"
      },
      "source": [
        "#chemin de 4 sommets\n",
        "couplage_max(incid2)"
      ],
      "execution_count": 29,
      "outputs": [
        {
          "output_type": "execute_result",
          "data": {
            "text/plain": [
              "     con: array([], dtype=float64)\n",
              "     fun: -2.000000000006429\n",
              " message: 'Optimization terminated successfully.'\n",
              "     nit: 4\n",
              "   slack: array([-3.21476179e-12,  2.37691350e-01, -3.21431770e-12])\n",
              "  status: 0\n",
              " success: True\n",
              "       x: array([0.38115433, 0.61884567, 0.38115433, 0.61884567])"
            ]
          },
          "metadata": {
            "tags": []
          },
          "execution_count": 29
        }
      ]
    },
    {
      "cell_type": "code",
      "metadata": {
        "colab": {
          "base_uri": "https://localhost:8080/"
        },
        "id": "oNrrf1dwveW6",
        "outputId": "8dfbbdc1-82c1-432b-8af1-01184fd8fd7f"
      },
      "source": [
        "#clique de 4 sommets\n",
        "couplage_max(incid3)"
      ],
      "execution_count": 14,
      "outputs": [
        {
          "output_type": "stream",
          "text": [
            "/usr/local/lib/python3.6/dist-packages/ipykernel_launcher.py:16: OptimizeWarning: Solving system with option 'cholesky':True failed. It is normal for this to happen occasionally, especially as the solution is approached. However, if you see this frequently, consider setting option 'cholesky' to False.\n",
            "  app.launch_new_instance()\n",
            "/usr/local/lib/python3.6/dist-packages/ipykernel_launcher.py:16: OptimizeWarning: Solving system with option 'sym_pos':True failed. It is normal for this to happen occasionally, especially as the solution is approached. However, if you see this frequently, consider setting option 'sym_pos' to False.\n",
            "  app.launch_new_instance()\n",
            "/usr/local/lib/python3.6/dist-packages/scipy/optimize/_linprog_ip.py:110: LinAlgWarning: Ill-conditioned matrix (rcond=4.40125e-18): result may not be accurate.\n",
            "  return sp.linalg.solve(M, r, sym_pos=sym_pos)\n"
          ],
          "name": "stderr"
        },
        {
          "output_type": "execute_result",
          "data": {
            "text/plain": [
              "     con: array([], dtype=float64)\n",
              "     fun: -2.000000000004153\n",
              " message: 'Optimization terminated successfully.'\n",
              "     nit: 4\n",
              "   slack: array([-2.50133247e-12, -1.85806925e-12, -1.65156777e-12, -2.29483099e-12,\n",
              "       -1.86828331e-12, -2.28461694e-12])\n",
              "  status: 0\n",
              " success: True\n",
              "       x: array([0.5, 0.5, 0.5, 0.5])"
            ]
          },
          "metadata": {
            "tags": []
          },
          "execution_count": 14
        }
      ]
    },
    {
      "cell_type": "markdown",
      "metadata": {
        "id": "Lda-40z1pzkB"
      },
      "source": [
        "#### Question 11.b."
      ]
    },
    {
      "cell_type": "markdown",
      "metadata": {
        "id": "WWE44W5_vlSI"
      },
      "source": [
        "Qu’est ce qui est renvoyé pour la relaxation fractionnaire du\n",
        "problème de couplage maximum?"
      ]
    },
    {
      "cell_type": "code",
      "metadata": {
        "id": "qHYbomF1p1Ae"
      },
      "source": [
        "def relax_frac(inc):\n",
        "  if inc==[]:\n",
        "    C=[]\n",
        "    N=0\n",
        "\n",
        "  else:\n",
        "    m=np.shape(inc)\n",
        "    c=-np.ones(m[0])\n",
        "    A=np.transpose(inc)\n",
        "    b=np.ones(m[1])\n",
        "\n",
        "    res = linprog(c, A_ub=A, b_ub=b, bounds=[0,None])\n",
        "\n",
        "    return res"
      ],
      "execution_count": 30,
      "outputs": []
    },
    {
      "cell_type": "code",
      "metadata": {
        "colab": {
          "base_uri": "https://localhost:8080/"
        },
        "id": "TskRBj-YvrcD",
        "outputId": "4efa6afb-68bd-4f6b-8b5e-5a933c6e1bbf"
      },
      "source": [
        "#cycle de 4 sommets\n",
        "relax_frac(incid1)"
      ],
      "execution_count": 16,
      "outputs": [
        {
          "output_type": "execute_result",
          "data": {
            "text/plain": [
              "     con: array([], dtype=float64)\n",
              "     fun: -2.0000000001615756\n",
              " message: 'Optimization terminated successfully.'\n",
              "     nit: 3\n",
              "   slack: array([-8.07951483e-11, -8.08049183e-11, -8.07807155e-11, -8.07709455e-11])\n",
              "  status: 0\n",
              " success: True\n",
              "       x: array([0.5, 0.5, 0.5, 0.5])"
            ]
          },
          "metadata": {
            "tags": []
          },
          "execution_count": 16
        }
      ]
    },
    {
      "cell_type": "code",
      "metadata": {
        "colab": {
          "base_uri": "https://localhost:8080/"
        },
        "id": "nER1V8MJvtUP",
        "outputId": "fc493f16-6ed7-46c6-94b4-9e33ea61f6b3"
      },
      "source": [
        "#chemin de 4 sommets\n",
        "relax_frac(incid2)"
      ],
      "execution_count": 17,
      "outputs": [
        {
          "output_type": "execute_result",
          "data": {
            "text/plain": [
              "     con: array([], dtype=float64)\n",
              "     fun: -2.0000000121175203\n",
              " message: 'Optimization terminated successfully.'\n",
              "     nit: 3\n",
              "   slack: array([-6.05875994e-09,  3.33333327e-01, -6.05876016e-09])\n",
              "  status: 0\n",
              " success: True\n",
              "       x: array([0.33333334, 0.66666667, 0.33333334, 0.66666667])"
            ]
          },
          "metadata": {
            "tags": []
          },
          "execution_count": 17
        }
      ]
    },
    {
      "cell_type": "code",
      "metadata": {
        "colab": {
          "base_uri": "https://localhost:8080/"
        },
        "id": "gEA7YhH1vxG5",
        "outputId": "3680a252-886b-41a2-b886-5c6ae8ac9b45"
      },
      "source": [
        "#clique de 4 sommets\n",
        "relax_frac(incid3)"
      ],
      "execution_count": 18,
      "outputs": [
        {
          "output_type": "execute_result",
          "data": {
            "text/plain": [
              "     con: array([], dtype=float64)\n",
              "     fun: -2.0000000010379684\n",
              " message: 'Optimization terminated successfully.'\n",
              "     nit: 3\n",
              "   slack: array([-5.18984411e-10, -5.18983967e-10, -5.18983967e-10, -5.18984411e-10,\n",
              "       -5.18984855e-10, -5.18983523e-10])\n",
              "  status: 0\n",
              " success: True\n",
              "       x: array([0.5, 0.5, 0.5, 0.5])"
            ]
          },
          "metadata": {
            "tags": []
          },
          "execution_count": 18
        }
      ]
    },
    {
      "cell_type": "markdown",
      "metadata": {
        "id": "DG2fU9G1qCAB"
      },
      "source": [
        "#### Question 12."
      ]
    },
    {
      "cell_type": "markdown",
      "metadata": {
        "id": "vjlHJVR0v4wO"
      },
      "source": [
        "Quelles sont les solutions du problème pour la relaxation fractionnaire de “vertex cover minimal” et “couplage maximal” pour un cycle à 5\n",
        "sommets."
      ]
    },
    {
      "cell_type": "code",
      "metadata": {
        "id": "rCA0-mYIqC74"
      },
      "source": [
        "def vertexcover_minimal(inc):\n",
        "  if inc==[]:\n",
        "    C=[]\n",
        "    N=0\n",
        "\n",
        "  else:\n",
        "    m=np.shape(inc)\n",
        "    c=np.ones(m[1]);\n",
        "    A=np.negative(inc);\n",
        "    b=-np.ones(m[0]);\n",
        "\n",
        "    res = linprog(c, A_ub=A, b_ub=b, bounds=[0,1])\n",
        "\n",
        "  return res"
      ],
      "execution_count": 31,
      "outputs": []
    },
    {
      "cell_type": "code",
      "metadata": {
        "colab": {
          "base_uri": "https://localhost:8080/"
        },
        "id": "4q-wsp9AwAJk",
        "outputId": "ec5e9a58-d2d4-41b5-b2a2-2283976e96c1"
      },
      "source": [
        "#La matrice d'incidence d'un cycle de 5 sommets\n",
        "incid5=[[1,1,0,0,0],\n",
        "        [0,1,1,0,0],\n",
        "        [0,0,1,1,0],\n",
        "        [0,0,0,1,1],\n",
        "        [1,0,0,0,1]]\n",
        "\n",
        "couplage_max(incid5) "
      ],
      "execution_count": 20,
      "outputs": [
        {
          "output_type": "execute_result",
          "data": {
            "text/plain": [
              "     con: array([], dtype=float64)\n",
              "     fun: -2.500000016713985\n",
              " message: 'Optimization terminated successfully.'\n",
              "     nit: 3\n",
              "   slack: array([-6.68554234e-09, -6.68561184e-09, -6.68566136e-09, -6.68558631e-09,\n",
              "       -6.68556810e-09])\n",
              "  status: 0\n",
              " success: True\n",
              "       x: array([0.5, 0.5, 0.5, 0.5, 0.5])"
            ]
          },
          "metadata": {
            "tags": []
          },
          "execution_count": 20
        }
      ]
    },
    {
      "cell_type": "code",
      "metadata": {
        "colab": {
          "base_uri": "https://localhost:8080/"
        },
        "id": "SfoOPrGrwIZN",
        "outputId": "c96414a0-8b4d-4921-acb9-44680e26fc7b"
      },
      "source": [
        "vertexcover_minimal(incid5)"
      ],
      "execution_count": 21,
      "outputs": [
        {
          "output_type": "execute_result",
          "data": {
            "text/plain": [
              "     con: array([], dtype=float64)\n",
              "     fun: 2.5000000003080562\n",
              " message: 'Optimization terminated successfully.'\n",
              "     nit: 3\n",
              "   slack: array([1.23222543e-10, 1.23222765e-10, 1.23222543e-10, 1.23222321e-10,\n",
              "       1.23222321e-10])\n",
              "  status: 0\n",
              " success: True\n",
              "       x: array([0.5, 0.5, 0.5, 0.5, 0.5])"
            ]
          },
          "metadata": {
            "tags": []
          },
          "execution_count": 21
        }
      ]
    },
    {
      "cell_type": "markdown",
      "metadata": {
        "id": "BGS9_o2Pw353"
      },
      "source": [
        "#### Question 13.a."
      ]
    },
    {
      "cell_type": "markdown",
      "metadata": {
        "id": "rnjoa9hHxNyU"
      },
      "source": [
        "Écrire une fonction qui prend comme paramètre n et p et renvoie un graphe de G(n, p). Autrement dit, implémentez une fonction qui génère un graphe de taille n où l’existence de chaque arête est tirée avec probabilité p"
      ]
    },
    {
      "cell_type": "code",
      "metadata": {
        "id": "KPBLQRtiw9e7"
      },
      "source": [
        "import random\n",
        "def graphNP(n,p):\n",
        "\n",
        "  adj=np.zeros((n,n))\n",
        "\n",
        "  for i in range(0,n):\n",
        "      for j in range(i+1,n):\n",
        "        if random.random()<p:\n",
        "          adj[j,i]=1\n",
        "          adj[i,j]=1\n",
        "\n",
        "  G=adj_To_Inc(adj)\n",
        "\n",
        "  return G"
      ],
      "execution_count": 34,
      "outputs": []
    },
    {
      "cell_type": "code",
      "metadata": {
        "colab": {
          "base_uri": "https://localhost:8080/"
        },
        "id": "irnGXCIEw1YQ",
        "outputId": "a7c3b36b-0f69-4302-b351-2a0a138a6a24"
      },
      "source": [
        "graphNP(30,1/2)"
      ],
      "execution_count": 33,
      "outputs": [
        {
          "output_type": "execute_result",
          "data": {
            "text/plain": [
              "array([[1., 1., 0., ..., 0., 0., 0.],\n",
              "       [1., 0., 1., ..., 0., 0., 0.],\n",
              "       [0., 1., 0., ..., 0., 0., 0.],\n",
              "       ...,\n",
              "       [0., 0., 0., ..., 0., 0., 1.],\n",
              "       [0., 0., 0., ..., 0., 0., 1.],\n",
              "       [0., 0., 0., ..., 1., 0., 1.]])"
            ]
          },
          "metadata": {
            "tags": []
          },
          "execution_count": 33
        }
      ]
    },
    {
      "cell_type": "markdown",
      "metadata": {
        "id": "pbFI9kVvxcRF"
      },
      "source": [
        "#### Question 13.b."
      ]
    },
    {
      "cell_type": "code",
      "metadata": {
        "colab": {
          "base_uri": "https://localhost:8080/"
        },
        "id": "_fI4V86_xkK7",
        "outputId": "d6d56115-79f5-4217-ce92-44a8e7a35d0a"
      },
      "source": [
        "def edge_calculate(inc):\n",
        "\n",
        "  return np.shape(inc)[0]\n",
        "\n",
        "#exemple de cycle (4 arêtes)\n",
        "edge_calculate(incid1)"
      ],
      "execution_count": 59,
      "outputs": [
        {
          "output_type": "execute_result",
          "data": {
            "text/plain": [
              "4"
            ]
          },
          "metadata": {
            "tags": []
          },
          "execution_count": 59
        }
      ]
    },
    {
      "cell_type": "markdown",
      "metadata": {
        "id": "QNBBC4rZxkn7"
      },
      "source": [
        "#### Question 13.c."
      ]
    },
    {
      "cell_type": "markdown",
      "metadata": {
        "id": "HdFdPVlpxqqF"
      },
      "source": [
        "Donnez la valeur moyenne de la solution optimale de la relaxation fractionnaire couplage maximal (sur 10 tirages) pour G(30, 1/30), G(30, 1/10)\n",
        "et G(30, 1/2)."
      ]
    },
    {
      "cell_type": "code",
      "metadata": {
        "colab": {
          "base_uri": "https://localhost:8080/"
        },
        "id": "Lr3xblfOxlX2",
        "outputId": "3060b1af-4af6-4174-e4cf-7751eafbf3f2"
      },
      "source": [
        "funlist = []\n",
        "i=0\n",
        "while i < 10:\n",
        "  funlist.append(vertexcover_minimal(graphNP(30,1/2)).fun)\n",
        "  i=i+1"
      ],
      "execution_count": 37,
      "outputs": [
        {
          "output_type": "stream",
          "text": [
            "/usr/local/lib/python3.6/dist-packages/ipykernel_launcher.py:2: DeprecationWarning: elementwise comparison failed; this will raise an error in the future.\n",
            "  \n",
            "/usr/local/lib/python3.6/dist-packages/ipykernel_launcher.py:12: OptimizeWarning: Solving system with option 'cholesky':True failed. It is normal for this to happen occasionally, especially as the solution is approached. However, if you see this frequently, consider setting option 'cholesky' to False.\n",
            "  if sys.path[0] == '':\n",
            "/usr/local/lib/python3.6/dist-packages/ipykernel_launcher.py:12: OptimizeWarning: Solving system with option 'sym_pos':True failed. It is normal for this to happen occasionally, especially as the solution is approached. However, if you see this frequently, consider setting option 'sym_pos' to False.\n",
            "  if sys.path[0] == '':\n",
            "/usr/local/lib/python3.6/dist-packages/scipy/optimize/_linprog_ip.py:110: LinAlgWarning: Ill-conditioned matrix (rcond=1.55617e-19): result may not be accurate.\n",
            "  return sp.linalg.solve(M, r, sym_pos=sym_pos)\n",
            "/usr/local/lib/python3.6/dist-packages/scipy/optimize/_linprog_ip.py:110: LinAlgWarning: Ill-conditioned matrix (rcond=7.74566e-23): result may not be accurate.\n",
            "  return sp.linalg.solve(M, r, sym_pos=sym_pos)\n",
            "/usr/local/lib/python3.6/dist-packages/scipy/optimize/_linprog_ip.py:110: LinAlgWarning: Ill-conditioned matrix (rcond=4.32633e-20): result may not be accurate.\n",
            "  return sp.linalg.solve(M, r, sym_pos=sym_pos)\n",
            "/usr/local/lib/python3.6/dist-packages/scipy/optimize/_linprog_ip.py:110: LinAlgWarning: Ill-conditioned matrix (rcond=2.48109e-20): result may not be accurate.\n",
            "  return sp.linalg.solve(M, r, sym_pos=sym_pos)\n"
          ],
          "name": "stderr"
        }
      ]
    },
    {
      "cell_type": "code",
      "metadata": {
        "colab": {
          "base_uri": "https://localhost:8080/"
        },
        "id": "z4RrkgSfyYOL",
        "outputId": "2c8fb3e3-06ea-46ee-c0e1-49317c8ec5dc"
      },
      "source": [
        "print(\"La valeur moyenne de la solution optimale = \", np.mean(funlist))"
      ],
      "execution_count": 38,
      "outputs": [
        {
          "output_type": "stream",
          "text": [
            "La valeur moyenne de la solution optimale =  15.00000000010204\n"
          ],
          "name": "stdout"
        }
      ]
    },
    {
      "cell_type": "markdown",
      "metadata": {
        "id": "TcFw7Jiu0OX4"
      },
      "source": [
        "## Optionnel (**)"
      ]
    },
    {
      "cell_type": "markdown",
      "metadata": {
        "id": "3IdpVry80Aly"
      },
      "source": [
        "#### Question 14.a."
      ]
    },
    {
      "cell_type": "code",
      "metadata": {
        "id": "hWWSVVQc0BLY"
      },
      "source": [
        "from math import ceil, floor\n",
        "\n",
        "def solveurGlob(inc):\n",
        "  sol=abs(relax_frac(inc).fun)\n",
        "\n",
        "  if isinstance(sol, int):\n",
        "    return sol\n",
        "\n",
        "  else:\n",
        "    m=np.shape(inc)\n",
        "    c=-np.ones(m[0])\n",
        "    A=np.transpose(inc)\n",
        "    b=np.ones(m[1])\n",
        "    res1 = linprog(c, A_ub=A, b_ub=b, bounds=[0,floor(sol)])\n",
        "    res2 = linprog(c, A_ub=A, b_ub=b, bounds=[ceil(sol),None])\n",
        "\n",
        "    return sol, abs(res1.fun), abs(res2.fun)"
      ],
      "execution_count": 39,
      "outputs": []
    },
    {
      "cell_type": "code",
      "metadata": {
        "colab": {
          "base_uri": "https://localhost:8080/"
        },
        "id": "l3_aDwhG0DzV",
        "outputId": "80a6c92f-b96c-4eb3-f516-4b7fbff1099d"
      },
      "source": [
        "solveurGlob(graphNP(30,1/30))"
      ],
      "execution_count": 40,
      "outputs": [
        {
          "output_type": "stream",
          "text": [
            "/usr/local/lib/python3.6/dist-packages/ipykernel_launcher.py:2: DeprecationWarning: elementwise comparison failed; this will raise an error in the future.\n",
            "  \n",
            "/usr/local/lib/python3.6/dist-packages/ipykernel_launcher.py:12: OptimizeWarning: Solving system with option 'cholesky':True failed. It is normal for this to happen occasionally, especially as the solution is approached. However, if you see this frequently, consider setting option 'cholesky' to False.\n",
            "  if sys.path[0] == '':\n",
            "/usr/local/lib/python3.6/dist-packages/ipykernel_launcher.py:12: OptimizeWarning: Solving system with option 'sym_pos':True failed. It is normal for this to happen occasionally, especially as the solution is approached. However, if you see this frequently, consider setting option 'sym_pos' to False.\n",
            "  if sys.path[0] == '':\n",
            "/usr/local/lib/python3.6/dist-packages/ipykernel_launcher.py:12: OptimizeWarning: Solving system with option 'sym_pos':False failed. This may happen occasionally, especially as the solution is approached. However, if you see this frequently, your problem may be numerically challenging. If you cannot improve the formulation, consider setting 'lstsq' to True. Consider also setting `presolve` to True, if it is not already.\n",
            "  if sys.path[0] == '':\n"
          ],
          "name": "stderr"
        },
        {
          "output_type": "execute_result",
          "data": {
            "text/plain": [
              "(8.50000000000271, 8.49999999931708, 0.0)"
            ]
          },
          "metadata": {
            "tags": []
          },
          "execution_count": 40
        }
      ]
    }
  ]
}