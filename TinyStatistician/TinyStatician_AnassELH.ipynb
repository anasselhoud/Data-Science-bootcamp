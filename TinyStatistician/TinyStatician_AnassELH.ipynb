{
  "nbformat": 4,
  "nbformat_minor": 0,
  "metadata": {
    "colab": {
      "name": "TinyStatician-AnassELH.ipynb",
      "provenance": [],
      "toc_visible": true,
      "authorship_tag": "ABX9TyPRNOv3D1K/6R/xNirRjj2l",
      "include_colab_link": true
    },
    "kernelspec": {
      "name": "python3",
      "display_name": "Python 3"
    }
  },
  "cells": [
    {
      "cell_type": "markdown",
      "metadata": {
        "id": "view-in-github",
        "colab_type": "text"
      },
      "source": [
        "<a href=\"https://colab.research.google.com/github/anasselhoud/Data-Science-bootcamp/blob/master/TinyStatistician/TinyStatician_AnassELH.ipynb\" target=\"_parent\"><img src=\"https://colab.research.google.com/assets/colab-badge.svg\" alt=\"Open In Colab\"/></a>"
      ]
    },
    {
      "cell_type": "markdown",
      "metadata": {
        "id": "XVUX49jL8H1L"
      },
      "source": [
        "# **TinyStatistician** \n",
        "#### Prepared by Anass El Houd\n",
        "\n",
        "Building a TinyStatistician package using Python Classes. The purpose is to not use predefined funtions that calculates the mean and all the parameters. We can only use 'math' package in order to use mathematical operations.\n",
        "\n",
        "Let's at the beginning create a class which implements the following functions:\n",
        "\n",
        "\n",
        "*   **Mean**: computes the mean of a non-empty array a. Given a vector x, we calculte the mean using the following formula:\n",
        "\\begin{align}\n",
        "\\mu=\\frac{\\sum_{i=1}^{m} x_{i}}{m}\n",
        "\\end{align}\n",
        "\n",
        "*   **Median**: returns the median or the 50th percentile. \n",
        "\n",
        "* **Quartile**: returns the 1st and 3rd percentiles given an array a and the parameter percentile => Quartile(a,percent)\n",
        "\n",
        "* **Variance**: computes tthe variance given an array a using the following formula:\n",
        "\n",
        "\\begin{align}\n",
        "\\sigma^{2}=\\frac{\\sum_{i=1}^{m}\\left(x_{i}-\\mu\\right)^{2}}{m}=\\frac{\\sum_{i=1}^{m}\\left[x_{i}-\\left(\\frac{1}{m} \\sum_{j=1}^{m} x_{j}\\right)\\right]^{2}}{m}\n",
        "\\end{align}\n",
        "* **Standard Deviation**: The methematical formula to calculate the standard deviation:\n",
        "\\begin{align}\n",
        "\\sigma=\\sqrt{\\frac{\\sum_{i=1}^{m}\\left(x_{i}-\\mu\\right)^{2}}{m}}=\\sqrt{\\frac{\\sum_{i=1}^{m}\\left[x_{i}-\\left(\\frac{1}{m} \\sum_{j=1}^{m} x_{j}\\right)\\right]^{2}}{m}}\n",
        "\\end{align}\n"
      ]
    },
    {
      "cell_type": "code",
      "metadata": {
        "id": "r4FOESCp8Aan"
      },
      "source": [
        "import math\n",
        "\n",
        "class TinyStatistician:\n",
        "  \n",
        "  @staticmethod\n",
        "  def mean(a):\n",
        "    if a==[]:\n",
        "      return None \n",
        "    else:\n",
        "      S=0\n",
        "      for i in range(len(a)):\n",
        "        S=S+a[i]\n",
        "    return S/(len(a))\n",
        "  \n",
        "  @staticmethod\n",
        "  def median(a):\n",
        "    if not a:\n",
        "      return None\n",
        "    else:\n",
        "      return a[int(len(a)/2)-1]\n",
        "\n",
        "  @staticmethod\n",
        "  def quartile(a,percent):\n",
        "    if not a:\n",
        "      return None\n",
        "    else:\n",
        "      return a[int(percent*len(a)/100)]\n",
        "\n",
        "\n",
        "  @staticmethod\n",
        "  def var(a):\n",
        "    if not a:\n",
        "      return None \n",
        "    else:\n",
        "      S=0\n",
        "      for i in range(len(a)):\n",
        "        S=S+a[i]\n",
        "      moy=S/(len(a))\n",
        "      V=0\n",
        "      for i in range(len(a)):\n",
        "        V=V+(a[i]-moy)**2\n",
        "      Vr=V/(len(a))\n",
        "      return Vr\n",
        "\n",
        "  @staticmethod\n",
        "  def std(a):\n",
        "    return math.sqrt(tstat.var(a))"
      ],
      "execution_count": 11,
      "outputs": []
    },
    {
      "cell_type": "markdown",
      "metadata": {
        "id": "8rUXj-vCB0W8"
      },
      "source": [
        "### Testing results"
      ]
    },
    {
      "cell_type": "code",
      "metadata": {
        "id": "f2AZGtadB2-3",
        "outputId": "06a67263-e91a-442e-95fc-41074dd20428",
        "colab": {
          "base_uri": "https://localhost:8080/",
          "height": 104
        }
      },
      "source": [
        "tstat=TinyStatistician()\n",
        "a=[1,42,300,10,59]\n",
        "\n",
        "print('Mean of a: ',tstat.mean(a))\n",
        "print('Median of a: ',tstat.median(a))\n",
        "print('75th percentile of a: ',tstat.quartile(a,75))\n",
        "print('Variance of a: ',tstat.var(a))\n",
        "print('Variance of a: ',tstat.std(a))"
      ],
      "execution_count": 12,
      "outputs": [
        {
          "output_type": "stream",
          "text": [
            "Mean of a:  82.4\n",
            "Median of a:  42\n",
            "75th percentile of a:  10\n",
            "Variance of a:  12279.439999999999\n",
            "Variance of a:  110.81263465868862\n"
          ],
          "name": "stdout"
        }
      ]
    },
    {
      "cell_type": "code",
      "metadata": {
        "id": "foZcAH0jC9wV"
      },
      "source": [
        ""
      ],
      "execution_count": null,
      "outputs": []
    }
  ]
}